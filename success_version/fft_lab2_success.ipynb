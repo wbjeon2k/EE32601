{
 "cells": [
  {
   "cell_type": "code",
   "execution_count": 1,
   "id": "1e546eeb",
   "metadata": {},
   "outputs": [
    {
     "data": {
      "application/javascript": [
       "\n",
       "try {\n",
       "require(['notebook/js/codecell'], function(codecell) {\n",
       "  codecell.CodeCell.options_default.highlight_modes[\n",
       "      'magic_text/x-csrc'] = {'reg':[/^%%microblaze/]};\n",
       "  Jupyter.notebook.events.one('kernel_ready.Kernel', function(){\n",
       "      Jupyter.notebook.get_cells().map(function(cell){\n",
       "          if (cell.cell_type == 'code'){ cell.auto_highlight(); } }) ;\n",
       "  });\n",
       "});\n",
       "} catch (e) {};\n"
      ]
     },
     "metadata": {},
     "output_type": "display_data"
    },
    {
     "data": {
      "application/javascript": [
       "\n",
       "try {\n",
       "require(['notebook/js/codecell'], function(codecell) {\n",
       "  codecell.CodeCell.options_default.highlight_modes[\n",
       "      'magic_text/x-csrc'] = {'reg':[/^%%pybind11/]};\n",
       "  Jupyter.notebook.events.one('kernel_ready.Kernel', function(){\n",
       "      Jupyter.notebook.get_cells().map(function(cell){\n",
       "          if (cell.cell_type == 'code'){ cell.auto_highlight(); } }) ;\n",
       "  });\n",
       "});\n",
       "} catch (e) {};\n"
      ]
     },
     "metadata": {},
     "output_type": "display_data"
    }
   ],
   "source": [
    "from pynq import Overlay\n",
    "custom_hw = Overlay(\"fft.bit\")\n",
    "custom_hw?"
   ]
  },
  {
   "cell_type": "code",
   "execution_count": 2,
   "id": "a52f6d18",
   "metadata": {},
   "outputs": [],
   "source": [
    "dma_config = custom_hw.axi_dma_2\n",
    "dma_datain = custom_hw.axi_dma_1\n",
    "dma_dataout = custom_hw.axi_dma_0"
   ]
  },
  {
   "cell_type": "code",
   "execution_count": 4,
   "id": "03a90049",
   "metadata": {},
   "outputs": [],
   "source": [
    "dma_config?"
   ]
  },
  {
   "cell_type": "code",
   "execution_count": 7,
   "id": "0bdc712e",
   "metadata": {},
   "outputs": [],
   "source": [
    "dma_datain?"
   ]
  },
  {
   "cell_type": "code",
   "execution_count": 8,
   "id": "63f0fe00",
   "metadata": {},
   "outputs": [],
   "source": [
    "dma_dataout?"
   ]
  },
  {
   "cell_type": "code",
   "execution_count": 9,
   "id": "29b01735",
   "metadata": {},
   "outputs": [],
   "source": [
    "import numpy as np\n",
    "from pynq import allocate"
   ]
  },
  {
   "cell_type": "code",
   "execution_count": 10,
   "id": "818f9922",
   "metadata": {},
   "outputs": [],
   "source": [
    "inbuffer = allocate(shape=(8192,), dtype='uint32')\n",
    "outbuffer = allocate(shape=(8192,), dtype='uint32')\n",
    "configbuffer = allocate(shape=(1,), dtype='uint32')"
   ]
  },
  {
   "cell_type": "code",
   "execution_count": 11,
   "id": "2e476b7c",
   "metadata": {},
   "outputs": [],
   "source": [
    "fftdata = np.random.randint(50, size=(8192,), dtype=np.uint32)\n",
    "np.copyto(inbuffer, fftdata)"
   ]
  },
  {
   "cell_type": "code",
   "execution_count": 15,
   "id": "3bf0f7e6",
   "metadata": {},
   "outputs": [
    {
     "data": {
      "text/plain": [
       "PynqBuffer([0], dtype=uint32)"
      ]
     },
     "execution_count": 15,
     "metadata": {},
     "output_type": "execute_result"
    }
   ],
   "source": [
    "configbuffer"
   ]
  },
  {
   "cell_type": "code",
   "execution_count": null,
   "id": "7d69f228",
   "metadata": {},
   "outputs": [],
   "source": [
    "\"\"\"check\"\"\""
   ]
  },
  {
   "cell_type": "code",
   "execution_count": 16,
   "id": "f71e464a",
   "metadata": {},
   "outputs": [],
   "source": [
    "configbuffer[0] = 0b000001110000000000000000 + 13"
   ]
  },
  {
   "cell_type": "code",
   "execution_count": 17,
   "id": "961580b2",
   "metadata": {},
   "outputs": [],
   "source": [
    "dma_config.sendchannel.transfer(configbuffer)"
   ]
  },
  {
   "cell_type": "code",
   "execution_count": 18,
   "id": "8188a773",
   "metadata": {},
   "outputs": [],
   "source": [
    "dma_config.sendchannel.wait()"
   ]
  },
  {
   "cell_type": "code",
   "execution_count": 19,
   "id": "ffb5dd38",
   "metadata": {},
   "outputs": [
    {
     "name": "stdout",
     "output_type": "stream",
     "text": [
      "741 µs ± 600 ns per loop (mean ± std. dev. of 7 runs, 1000 loops each)\n"
     ]
    }
   ],
   "source": [
    "%%timeit\n",
    "dma_datain.sendchannel.transfer(inbuffer)\n",
    "dma_dataout.recvchannel.transfer(outbuffer)\n",
    "dma_datain.sendchannel.wait()\n",
    "dma_dataout.recvchannel.wait()"
   ]
  },
  {
   "cell_type": "code",
   "execution_count": 26,
   "id": "41c5d84b",
   "metadata": {},
   "outputs": [
    {
     "data": {
      "text/plain": [
       "PynqBuffer([      6247,      65507,     655363, ..., 4294901795,\n",
       "            4293722064, 4293918722], dtype=uint32)"
      ]
     },
     "execution_count": 26,
     "metadata": {},
     "output_type": "execute_result"
    }
   ],
   "source": [
    "outbuffer"
   ]
  },
  {
   "cell_type": "code",
   "execution_count": 20,
   "id": "470020f5",
   "metadata": {},
   "outputs": [
    {
     "name": "stdout",
     "output_type": "stream",
     "text": [
      "3.76 ms ± 7.88 µs per loop (mean ± std. dev. of 7 runs, 100 loops each)\n"
     ]
    }
   ],
   "source": [
    "%%timeit\n",
    "npresult = np.fft.fft(fftdata)"
   ]
  },
  {
   "cell_type": "code",
   "execution_count": null,
   "id": "04c86bdc",
   "metadata": {},
   "outputs": [],
   "source": []
  }
 ],
 "metadata": {
  "kernelspec": {
   "display_name": "Python 3",
   "language": "python",
   "name": "python3"
  },
  "language_info": {
   "codemirror_mode": {
    "name": "ipython",
    "version": 3
   },
   "file_extension": ".py",
   "mimetype": "text/x-python",
   "name": "python",
   "nbconvert_exporter": "python",
   "pygments_lexer": "ipython3",
   "version": "3.8.2"
  }
 },
 "nbformat": 4,
 "nbformat_minor": 5
}
