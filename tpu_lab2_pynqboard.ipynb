{
 "cells": [
  {
   "cell_type": "code",
   "execution_count": null,
   "id": "7e3be9ff",
   "metadata": {},
   "outputs": [],
   "source": [
    "# ssh -L 9094:192.168.1.54:9090 preu3@114.70.9.24 -p 443\n",
    "\n",
    "from pynq import Overlay\n",
    "\n",
    "custom_hw = Overlay(\"fft.bit\")\n",
    "\n",
    "custom_hw?\n",
    "\n",
    "dma_config = custom_hw.axi_dma_2\n",
    "dma_datain = custom_hw.axi_dma_1\n",
    "dam_dataout = custom_hw.axi_dma_0\n",
    "\n",
    "dma_datain?\n",
    "\n",
    "dma_dataout?\n",
    "\n",
    "import numpy as np\n",
    "from pynq import allocate\n",
    "\n",
    "inBuffer = allocate(shape=(8192,), dtype='uint32')\n",
    "outBuffer = allocate(shape=(8192,), dtype='uint32')\n",
    "configbuffer = allocate(shape=(1,), dtype='uint32')\n",
    "\n",
    "fftdata = np.random.randint(50, size=(8192, ),dtype=np.uint32)\n",
    "np.copyto(inBuffer, fftdata)\n",
    "\n",
    "outBuffer\n",
    "\n",
    "configbuffer[0] = 0b000001110000000000000000 + 13\n",
    "\n",
    "dma_config.sendchannel.transfer(configbuffer)\n",
    "dma_config.sendchannel.wait()\n",
    "\n",
    "%%timeit\n",
    "dma_datain.sendchannel.transfer(inBuffer)\n",
    "dma_dataout.recvchannel.transfer(outBuffer)\n",
    "dma_datain.sendchannel.wait()\n",
    "dma_dataout.recvchannel.wait()\n",
    "\n",
    "outBuffer\n",
    "\n",
    "%%timeit\n",
    "\n",
    "npResult = np.fft.fft(fftdata)\n",
    "\n",
    "npResult\n",
    "\n"
   ]
  }
 ],
 "metadata": {
  "kernelspec": {
   "display_name": "Python 3 (ipykernel)",
   "language": "python",
   "name": "python3"
  },
  "language_info": {
   "codemirror_mode": {
    "name": "ipython",
    "version": 3
   },
   "file_extension": ".py",
   "mimetype": "text/x-python",
   "name": "python",
   "nbconvert_exporter": "python",
   "pygments_lexer": "ipython3",
   "version": "3.8.8"
  }
 },
 "nbformat": 4,
 "nbformat_minor": 5
}
