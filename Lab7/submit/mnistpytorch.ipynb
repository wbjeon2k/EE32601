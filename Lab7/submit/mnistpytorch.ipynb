{
 "cells": [
  {
   "cell_type": "code",
   "execution_count": null,
   "id": "3c2ab31d-5f98-4cf0-9640-ea8f45db3052",
   "metadata": {},
   "outputs": [
    {
     "data": {
      "text/plain": [
       "'\\nimport torch\\nmodel = torch.load(\"MNIST.pth\")\\n#model = np.load(\"model.npy\",allow_pickle= True)\\nfc1w = np.array(model[\\'fc1.weight\\'])\\nfc1b = np.array(model[\\'fc1.bias\\'])\\n\\nfc2w = np.array(model[\\'fc2.weight\\'])\\nfc2b = np.array(model[\\'fc2.bias\\'])\\n\\nfc3w = np.array(model[\\'fc3.weight\\'])\\nfc3b = np.array(model[\\'fc3.bias\\'])\\nprint(fc1w.shape, fc2w.shape, fc3w.shape)\\nprint(fc2w.T.shape)\\n'"
      ]
     },
     "execution_count": 1,
     "metadata": {},
     "output_type": "execute_result"
    }
   ],
   "source": [
    "## run this on pnyq..\n",
    "\n",
    "import numpy as np\n",
    "import time\n",
    "\n",
    "#from scipy.interpolate import interp1d\n",
    "\n",
    "mnist = np.load(\"mnist-original.npy\", allow_pickle= True)\n",
    "\n",
    "X = mnist.item().get(\"data\").T / 255\n",
    "y = mnist.item().get(\"label\")[0]\n",
    "\n",
    "weights = np.load('model.npy',allow_pickle=True)\n",
    "\n",
    "fc1w = weights.item().get('fc1w')\n",
    "fc1b = weights.item().get('fc1b')\n",
    "\n",
    "fc2w = weights.item().get('fc2w')\n",
    "fc2b = weights.item().get('fc2b')\n",
    "\n",
    "fc3w = weights.item().get('fc3w')\n",
    "fc3b = weights.item().get('fc3b')\n",
    "\n",
    "\n",
    "'''\n",
    "import torch\n",
    "model = torch.load(\"MNIST.pth\")\n",
    "#model = np.load(\"model.npy\",allow_pickle= True)\n",
    "fc1w = np.array(model['fc1.weight'])\n",
    "fc1b = np.array(model['fc1.bias'])\n",
    "\n",
    "fc2w = np.array(model['fc2.weight'])\n",
    "fc2b = np.array(model['fc2.bias'])\n",
    "\n",
    "fc3w = np.array(model['fc3.weight'])\n",
    "fc3b = np.array(model['fc3.bias'])\n",
    "print(fc1w.shape, fc2w.shape, fc3w.shape)\n",
    "print(fc2w.T.shape)\n",
    "'''"
   ]
  },
  {
   "cell_type": "code",
   "execution_count": null,
   "id": "3e52a668-ffab-4443-b918-be86f7955d1f",
   "metadata": {},
   "outputs": [],
   "source": [
    "\n",
    "batch_size = 64"
   ]
  },
  {
   "cell_type": "code",
   "execution_count": null,
   "id": "0f435160-7746-4ae2-8ad9-0749ff98897b",
   "metadata": {},
   "outputs": [],
   "source": [
    "\n",
    "\n",
    "# assume hw can do only int8 multiplication\n",
    "\n",
    "def sign_bit(a):\n",
    "    if(a>0):\n",
    "        return 1\n",
    "    else:\n",
    "        return -1\n",
    "\n",
    "sign_bit_map = np.vectorize(sign_bit)\n",
    "\n",
    "def feed_foward(X0):\n",
    "    X1 = np.matmul(X0, fc1w.T) + np.tile(fc1b, (batch_size, 1))\n",
    "    A1 = np.tanh(X1)\n",
    "    \n",
    "    A1_q = sign_bit_map(A1)\n",
    "    fc2w_q = sign_bit_map(fc2w)\n",
    "    \n",
    "    HW_result = np.matmul(A1_q, fc2w_q.T)\n",
    "\n",
    "    X2 = HW_result + np.tile(fc2b, (batch_size, 1))\n",
    "    A2 = np.tanh(X2)\n",
    "\n",
    "    X3 = np.matmul(A2, fc3w.T) + np.tile(fc3b, (batch_size, 1))\n",
    "    return X3\n",
    "\n",
    "\n",
    "\n"
   ]
  },
  {
   "cell_type": "code",
   "execution_count": null,
   "id": "8f55a505-407b-4f7f-8762-3bd5d4a28cb5",
   "metadata": {},
   "outputs": [
    {
     "name": "stdout",
     "output_type": "stream",
     "text": [
      "89.03247941445562\n",
      "CPU times: user 2min 1s, sys: 9.83 s, total: 2min 10s\n",
      "Wall time: 3min 6s\n"
     ]
    }
   ],
   "source": [
    "%%time\n",
    "prediction = []\n",
    "for idx in range(len(X)//batch_size):\n",
    "    xs = X[batch_size * idx:batch_size * idx + batch_size]\n",
    "    ys = y[batch_size * idx:batch_size * idx + batch_size]\n",
    "    outputs = feed_foward(xs)\n",
    "    for output, yk in zip(outputs, ys):\n",
    "        prediction.append(np.argmax(output) == (yk))\n",
    "\n",
    "score = np.mean(prediction) * 100\n",
    "\n",
    "print(score)"
   ]
  },
  {
   "cell_type": "code",
   "execution_count": null,
   "id": "6de7b4a8-24bc-4c6a-8d74-a7a4d9a26779",
   "metadata": {},
   "outputs": [
    {
     "data": {
      "application/javascript": "\ntry {\nrequire(['notebook/js/codecell'], function(codecell) {\n  codecell.CodeCell.options_default.highlight_modes[\n      'magic_text/x-csrc'] = {'reg':[/^%%microblaze/]};\n  Jupyter.notebook.events.one('kernel_ready.Kernel', function(){\n      Jupyter.notebook.get_cells().map(function(cell){\n          if (cell.cell_type == 'code'){ cell.auto_highlight(); } }) ;\n  });\n});\n} catch (e) {};\n"
     },
     "metadata": {},
     "output_type": "display_data"
    },
    {
     "data": {
      "application/javascript": "\ntry {\nrequire(['notebook/js/codecell'], function(codecell) {\n  codecell.CodeCell.options_default.highlight_modes[\n      'magic_text/x-csrc'] = {'reg':[/^%%pybind11/]};\n  Jupyter.notebook.events.one('kernel_ready.Kernel', function(){\n      Jupyter.notebook.get_cells().map(function(cell){\n          if (cell.cell_type == 'code'){ cell.auto_highlight(); } }) ;\n  });\n});\n} catch (e) {};\n"
     },
     "metadata": {},
     "output_type": "display_data"
    }
   ],
   "source": [
    "from pynq import allocate\n",
    "from pynq import Overlay\n",
    "import numpy as np\n",
    "import struct\n",
    "import ctypes"
   ]
  },
  {
   "cell_type": "code",
   "execution_count": null,
   "id": "1097735d-7909-461c-8234-cde5cda5c2ad",
   "metadata": {},
   "outputs": [],
   "source": [
    "custom_hw = Overlay(\"matmulaccel10.bit\")"
   ]
  },
  {
   "cell_type": "code",
   "execution_count": 20,
   "id": "8c14f3c8-3fb0-4fa6-b503-c0f9968d423a",
   "metadata": {},
   "outputs": [],
   "source": [
    "class matmul_overlay(Overlay):\n",
    "    def __init__(self, bitfile_name, SIZE=64):\n",
    "        super().__init__(bitfile_name)\n",
    "        #self.saxpy_hw = self.krnl_saxpy2_0\n",
    "        self.abuf = allocate((SIZE*SIZE*2, ) , dtype=np.float64)\n",
    "        self.bbuf = allocate((SIZE*SIZE*2, ) , dtype=np.float64)\n",
    "        self.obuf = allocate((SIZE*SIZE, ) , dtype=np.int8)\n",
    "        #interrupt 생략\n",
    "        \n",
    "    \n",
    "    def python_float_to_uint(self, num):\n",
    "        return ctypes.c_uint.from_buffer(ctypes.c_float(num)).value\n",
    "    \n",
    "    def register_map(self):\n",
    "        return self.register_map\n",
    "    \n",
    "    def ip_dict(self):\n",
    "        return self.saxpy_hw.ip_dict()\n",
    "    \n",
    "    def run(self, x, y):\n",
    "\n",
    "        np.copyto(self.abuf, x.flatten())\n",
    "        np.copyto(self.bbuf, y.flatten())\n",
    "        \n",
    "        self.in1_dma.sendchannel.transfer(self.abuf)\n",
    "        self.in2_dma.sendchannel.transfer(self.bbuf)\n",
    "        self.out_dma.recvchannel.transfer(self.obuf)\n",
    "        self.in1_dma.sendchannel.wait()\n",
    "        self.in2_dma.sendchannel.wait()\n",
    "        self.out_dma.recvchannel.wait()\n",
    "        \n",
    "        obuf_64by64 = np.reshape(self.obuf, (64,64))\n",
    "        #obuf_64by64 = obuf_64by64.astype(np.float64)\n",
    "        #obuf_64by64 = self.obuf.resize((64,64))\n",
    "        \n",
    "        return obuf_64by64\n",
    "    \n",
    "    def assert_by_sw(self, x, y):\n",
    "        def sign_chk(a):\n",
    "            if (a>=0):\n",
    "                return 1\n",
    "            else:\n",
    "                return -1\n",
    "        import time\n",
    "        sign_chk_map = np.vectorize(sign_chk)\n",
    "        x_sw = sign_chk_map(a)\n",
    "        y_sw = sign_chk_map(b)\n",
    "        start_sw = time.time()\n",
    "        xy = np.matmul(x_sw,y_sw)\n",
    "        end_sw = time.time()\n",
    "        start_hw = time.time()\n",
    "        xy_hw = self.run(x,y)\n",
    "        end_hw = time.time()\n",
    "        comparison = np.isclose(xy.flatten(),xy_hw.flatten())\n",
    "        for i in comparison:\n",
    "            assert(i == True)\n",
    "        \n",
    "        print(end_sw-start_sw, end_hw-start_hw)\n",
    "        \n",
    "        return True"
   ]
  },
  {
   "cell_type": "code",
   "execution_count": 21,
   "id": "ca5b1df6-6716-4379-89e1-3b9080beb2ec",
   "metadata": {},
   "outputs": [],
   "source": [
    "matmul_hw = matmul_overlay(\"matmulaccel10.bit\")\n"
   ]
  },
  {
   "cell_type": "code",
   "execution_count": 22,
   "id": "66376bb0-9027-44f2-a669-18116d171347",
   "metadata": {},
   "outputs": [],
   "source": [
    "def feed_foward2(X0):\n",
    "    X1 = np.matmul(X0, fc1w.T) + np.tile(fc1b, (batch_size, 1))\n",
    "    A1 = np.tanh(X1)\n",
    "    \n",
    "    #matmul_hw = matmul_overlay(\"matmulaccel.bit\")\n",
    "    \n",
    "    A1_q = A1.astype(np.float64)\n",
    "    fc2w_q = fc2w.astype(np.float64)\n",
    "    HW_result = matmul_hw.run(A1_q,fc2w_q.T)\n",
    "    \n",
    "    X2 = HW_result + np.tile(fc2b, (batch_size, 1))\n",
    "    A2 = np.tanh(X2)\n",
    "    #print(A2[0].dtype, X2[0].dtype)\n",
    "    X3 = np.matmul(A2, fc3w.T) + np.tile(fc3b, (batch_size, 1))\n",
    "    return X3"
   ]
  },
  {
   "cell_type": "code",
   "execution_count": 23,
   "id": "a6045f33-07bb-4789-ae1a-90a752ce1aab",
   "metadata": {},
   "outputs": [
    {
     "name": "stdout",
     "output_type": "stream",
     "text": [
      "89.03247941445562\n",
      "CPU times: user 2min 46s, sys: 15 s, total: 3min 1s\n",
      "Wall time: 5min 16s\n"
     ]
    }
   ],
   "source": [
    "%%time\n",
    "prediction2 = []\n",
    "for idx in range(len(X)//batch_size):\n",
    "    xs = X[batch_size * idx:batch_size * idx + batch_size]\n",
    "    ys = y[batch_size * idx:batch_size * idx + batch_size]\n",
    "    outputs2 = feed_foward2(xs)\n",
    "    for output, yk in zip(outputs2, ys):\n",
    "        prediction2.append(np.argmax(output) == (yk))\n",
    "\n",
    "score = np.mean(prediction2) * 100\n",
    "\n",
    "print(score)"
   ]
  },
  {
   "cell_type": "code",
   "execution_count": null,
   "id": "e29b18f5-34b1-45b1-8a64-d01eb2b31021",
   "metadata": {},
   "outputs": [],
   "source": []
  }
 ],
 "metadata": {
  "kernelspec": {
   "display_name": "Python 3",
   "language": "python",
   "name": "python3"
  },
  "language_info": {
   "codemirror_mode": {
    "name": "ipython",
    "version": 3
   },
   "file_extension": ".py",
   "mimetype": "text/x-python",
   "name": "python",
   "nbconvert_exporter": "python",
   "pygments_lexer": "ipython3",
   "version": "3.8.2"
  }
 },
 "nbformat": 4,
 "nbformat_minor": 5
}
