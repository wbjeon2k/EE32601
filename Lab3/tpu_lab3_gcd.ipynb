{
 "cells": [
  {
   "cell_type": "code",
   "execution_count": 1,
   "id": "4771929f-890e-43b9-a06d-0601f33c0b39",
   "metadata": {},
   "outputs": [
    {
     "data": {
      "application/javascript": [
       "\n",
       "try {\n",
       "require(['notebook/js/codecell'], function(codecell) {\n",
       "  codecell.CodeCell.options_default.highlight_modes[\n",
       "      'magic_text/x-csrc'] = {'reg':[/^%%microblaze/]};\n",
       "  Jupyter.notebook.events.one('kernel_ready.Kernel', function(){\n",
       "      Jupyter.notebook.get_cells().map(function(cell){\n",
       "          if (cell.cell_type == 'code'){ cell.auto_highlight(); } }) ;\n",
       "  });\n",
       "});\n",
       "} catch (e) {};\n"
      ]
     },
     "metadata": {},
     "output_type": "display_data"
    },
    {
     "data": {
      "application/javascript": [
       "\n",
       "try {\n",
       "require(['notebook/js/codecell'], function(codecell) {\n",
       "  codecell.CodeCell.options_default.highlight_modes[\n",
       "      'magic_text/x-csrc'] = {'reg':[/^%%pybind11/]};\n",
       "  Jupyter.notebook.events.one('kernel_ready.Kernel', function(){\n",
       "      Jupyter.notebook.get_cells().map(function(cell){\n",
       "          if (cell.cell_type == 'code'){ cell.auto_highlight(); } }) ;\n",
       "  });\n",
       "});\n",
       "} catch (e) {};\n"
      ]
     },
     "metadata": {},
     "output_type": "display_data"
    }
   ],
   "source": [
    "import random\n",
    "from pynq import Overlay\n",
    "gcd_overlay = Overlay(\"gcd_custom.bit\")"
   ]
  },
  {
   "cell_type": "code",
   "execution_count": 2,
   "id": "a42bc816-3e78-4188-a947-938309c6f527",
   "metadata": {},
   "outputs": [
    {
     "data": {
      "text/plain": [
       "\u001b[0;31mType:\u001b[0m            Overlay\n",
       "\u001b[0;31mString form:\u001b[0m     <pynq.overlay.Overlay object at 0xaf376988>\n",
       "\u001b[0;31mFile:\u001b[0m            /usr/local/share/pynq-venv/lib/python3.8/site-packages/pynq/overlay.py\n",
       "\u001b[0;31mDocstring:\u001b[0m      \n",
       "Default documentation for overlay gcd_custom.bit. The following\n",
       "attributes are available on this overlay:\n",
       "\n",
       "IP Blocks\n",
       "----------\n",
       "gcd_custom_0         : pynq.overlay.DefaultIP\n",
       "processing_system7_0 : pynq.overlay.DefaultIP\n",
       "\n",
       "Hierarchies\n",
       "-----------\n",
       "None\n",
       "\n",
       "Interrupts\n",
       "----------\n",
       "None\n",
       "\n",
       "GPIO Outputs\n",
       "------------\n",
       "None\n",
       "\n",
       "Memories\n",
       "------------\n",
       "PSDDR                : Memory\n",
       "\u001b[0;31mClass docstring:\u001b[0m\n",
       "This class keeps track of a single bitstream's state and contents.\n",
       "\n",
       "The overlay class holds the state of the bitstream and enables run-time\n",
       "protection of bindings.\n",
       "\n",
       "Our definition of overlay is: \"post-bitstream configurable design\".\n",
       "Hence, this class must expose configurability through content discovery\n",
       "and runtime protection.\n",
       "\n",
       "The overlay class exposes the IP and hierarchies as attributes in the\n",
       "overlay. If no other drivers are available the `DefaultIP` is constructed\n",
       "for IP cores at top level and `DefaultHierarchy` for any hierarchies that\n",
       "contain addressable IP. Custom drivers can be bound to IP and hierarchies\n",
       "by subclassing `DefaultIP` and `DefaultHierarchy`. See the help entries\n",
       "for those class for more details.\n",
       "\n",
       "This class stores four dictionaries: IP, GPIO, interrupt controller\n",
       "and interrupt pin dictionaries.\n",
       "\n",
       "Each entry of the IP dictionary is a mapping:\n",
       "'name' -> {phys_addr, addr_range, type, config, state}, where\n",
       "name (str) is the key of the entry.\n",
       "phys_addr (int) is the physical address of the IP.\n",
       "addr_range (int) is the address range of the IP.\n",
       "type (str) is the type of the IP.\n",
       "config (dict) is a dictionary of the configuration parameters.\n",
       "state (str) is the state information about the IP.\n",
       "\n",
       "Each entry of the GPIO dictionary is a mapping:\n",
       "'name' -> {pin, state}, where\n",
       "name (str) is the key of the entry.\n",
       "pin (int) is the user index of the GPIO, starting from 0.\n",
       "state (str) is the state information about the GPIO.\n",
       "\n",
       "Each entry in the interrupt controller dictionary is a mapping:\n",
       "'name' -> {parent, index}, where\n",
       "name (str) is the name of the interrupt controller.\n",
       "parent (str) is the name of the parent controller or '' if attached\n",
       "directly to the PS.\n",
       "index (int) is the index of the interrupt attached to.\n",
       "\n",
       "Each entry in the interrupt pin dictionary is a mapping:\n",
       "'name' -> {controller, index}, where\n",
       "name (str) is the name of the pin.\n",
       "controller (str) is the name of the interrupt controller.\n",
       "index (int) is the line index.\n",
       "\n",
       "Attributes\n",
       "----------\n",
       "bitfile_name : str\n",
       "    The absolute path of the bitstream.\n",
       "dtbo : str\n",
       "    The absolute path of the dtbo file for the full bitstream.\n",
       "ip_dict : dict\n",
       "    All the addressable IPs from PS. Key is the name of the IP; value is\n",
       "    a dictionary mapping the physical address, address range, IP type,\n",
       "    parameters, registers, and the state associated with that IP:\n",
       "    {str: {'phys_addr' : int, 'addr_range' : int,                'type' : str, 'parameters' : dict, 'registers': dict,                'state' : str}}.\n",
       "gpio_dict : dict\n",
       "    All the GPIO pins controlled by PS. Key is the name of the GPIO pin;\n",
       "    value is a dictionary mapping user index (starting from 0),\n",
       "    and the state associated with that GPIO pin:\n",
       "    {str: {'index' : int, 'state' : str}}.\n",
       "interrupt_controllers : dict\n",
       "    All AXI interrupt controllers in the system attached to\n",
       "    a PS interrupt line. Key is the name of the controller;\n",
       "    value is a dictionary mapping parent interrupt controller and the\n",
       "    line index of this interrupt:\n",
       "    {str: {'parent': str, 'index' : int}}.\n",
       "    The PS is the root of the hierarchy and is unnamed.\n",
       "interrupt_pins : dict\n",
       "    All pins in the design attached to an interrupt controller.\n",
       "    Key is the name of the pin; value is a dictionary\n",
       "    mapping the interrupt controller and the line index used:\n",
       "    {str: {'controller' : str, 'index' : int}}.\n",
       "pr_dict : dict\n",
       "    Dictionary mapping from the name of the partial-reconfigurable\n",
       "    hierarchical blocks to the loaded partial bitstreams:\n",
       "    {str: {'loaded': str, 'dtbo': str}}.\n",
       "device : pynq.Device\n",
       "    The device that the overlay is loaded on\n",
       "\u001b[0;31mInit docstring:\u001b[0m \n",
       "Return a new Overlay object.\n",
       "\n",
       "An overlay instantiates a bitstream object as a member initially.\n",
       "\n",
       "Parameters\n",
       "----------\n",
       "bitfile_name : str\n",
       "    The bitstream name or absolute path as a string.\n",
       "dtbo : str\n",
       "    The dtbo file name or absolute path as a string.\n",
       "download : bool\n",
       "    Whether the overlay should be downloaded.\n",
       "ignore_version : bool\n",
       "    Indicate whether or not to ignore the driver versions.\n",
       "device : pynq.Device\n",
       "    Device on which to load the Overlay. Defaults to\n",
       "    pynq.Device.active_device\n",
       "\n",
       "Note\n",
       "----\n",
       "This class requires a HWH file to be next to bitstream file\n",
       "with same name (e.g. `base.bit` and `base.hwh`).\n"
      ]
     },
     "metadata": {},
     "output_type": "display_data"
    }
   ],
   "source": [
    "gcd_overlay?"
   ]
  },
  {
   "cell_type": "code",
   "execution_count": 3,
   "id": "0a42acf4-78e3-4467-86d3-5e667e7815ab",
   "metadata": {},
   "outputs": [],
   "source": [
    "gcd_ip = gcd_overlay.gcd_custom_0"
   ]
  },
  {
   "cell_type": "code",
   "execution_count": 4,
   "id": "51dbb41f-9903-47ea-95ca-12e704edce87",
   "metadata": {},
   "outputs": [
    {
     "data": {
      "text/plain": [
       "RegisterMap {\n",
       "  a = Register(a=write-only),\n",
       "  b = Register(b=write-only),\n",
       "  gcd = Register(gcd=0),\n",
       "  gcd_ctrl = Register(gcd_ap_vld=1, RESERVED=0)\n",
       "}"
      ]
     },
     "execution_count": 4,
     "metadata": {},
     "output_type": "execute_result"
    }
   ],
   "source": [
    "gcd_ip.register_map"
   ]
  },
  {
   "cell_type": "code",
   "execution_count": 5,
   "id": "c8b0c21c-654a-44bd-a03c-39f4e14be900",
   "metadata": {},
   "outputs": [
    {
     "data": {
      "text/plain": [
       "32"
      ]
     },
     "execution_count": 5,
     "metadata": {},
     "output_type": "execute_result"
    }
   ],
   "source": [
    "gcd_ip.register_map.gcd.address"
   ]
  },
  {
   "cell_type": "code",
   "execution_count": 6,
   "id": "4f554691-424d-4811-ae81-c9c090755a8d",
   "metadata": {},
   "outputs": [
    {
     "data": {
      "text/plain": [
       "10"
      ]
     },
     "execution_count": 6,
     "metadata": {},
     "output_type": "execute_result"
    }
   ],
   "source": [
    "gcd_ip.write(0x10,10) # 0x10 address = 16 = add_ip.register_map.a.address\n",
    "gcd_ip.write(0x18,20) # 0x18 =24\n",
    "gcd_ip.read(0x20) #gcd(10,20) = 10"
   ]
  },
  {
   "cell_type": "code",
   "execution_count": 7,
   "id": "3d1ca43c-1c81-485a-a2f6-269abe0aa783",
   "metadata": {},
   "outputs": [
    {
     "data": {
      "text/plain": [
       "10"
      ]
     },
     "execution_count": 7,
     "metadata": {},
     "output_type": "execute_result"
    }
   ],
   "source": [
    "gcd_ip.write(gcd_ip.register_map.a.address,10) # 0x10 address = 16 = add_ip.register_map.a.address\n",
    "gcd_ip.write(gcd_ip.register_map.b.address,20) # 0x18 =24\n",
    "gcd_ip.read(gcd_ip.register_map.gcd.address)"
   ]
  },
  {
   "cell_type": "code",
   "execution_count": 16,
   "id": "34b191b7-86f7-4b92-9c1e-6c95b14b5831",
   "metadata": {},
   "outputs": [],
   "source": [
    "#hw : gcd calculator에 대해서 이런 driver 만드는것!\n",
    "class gcd_overlay(Overlay):\n",
    "    def get_gcd(self, a,b):\n",
    "        gcd_ip = self.gcd_custom_0\n",
    "        gcd_ip.write(gcd_ip.register_map.a.address,a) # 0x10 address = 16 = add_ip.register_map.a.address\n",
    "        gcd_ip.write(gcd_ip.register_map.b.address,b) # 0x18 =24\n",
    "        return gcd_ip.read(gcd_ip.register_map.gcd.address)"
   ]
  },
  {
   "cell_type": "code",
   "execution_count": 17,
   "id": "5d8fbe53-2735-4e12-b73e-dd5430e41ac3",
   "metadata": {},
   "outputs": [],
   "source": [
    "hw = gcd_overlay('gcd_custom.bit')"
   ]
  },
  {
   "cell_type": "code",
   "execution_count": 20,
   "id": "7e77fbac-4946-458a-b5be-a61c73cdd3d3",
   "metadata": {},
   "outputs": [
    {
     "name": "stdout",
     "output_type": "stream",
     "text": [
      "248 4667\n",
      "1\n",
      "248 4667\n",
      "1\n"
     ]
    }
   ],
   "source": [
    "rand_a = random.randrange(2,5000)\n",
    "rand_b = random.randrange(2,5000)\n",
    "\n",
    "def gcd_sw(a,b):\n",
    "    if(b>a):\n",
    "        c = a\n",
    "        a = b\n",
    "        b = c\n",
    "\n",
    "    while(b):\n",
    "        a, b = b, a%b\n",
    "        \n",
    "    return a\n",
    "\n",
    "print(rand_a, rand_b)\n",
    "print(hw.get_gcd(rand_a,rand_b))\n",
    "\n",
    "print(rand_a, rand_b)\n",
    "print(gcd_sw(rand_a,rand_b))\n",
    "\n",
    "assert(gcd_sw(rand_a,rand_b) == hw.get_gcd(rand_a,rand_b))\n"
   ]
  },
  {
   "cell_type": "code",
   "execution_count": null,
   "id": "7f943b47-3fb2-446a-ae94-101101112da1",
   "metadata": {},
   "outputs": [],
   "source": []
  }
 ],
 "metadata": {
  "kernelspec": {
   "display_name": "Python 3",
   "language": "python",
   "name": "python3"
  },
  "language_info": {
   "codemirror_mode": {
    "name": "ipython",
    "version": 3
   },
   "file_extension": ".py",
   "mimetype": "text/x-python",
   "name": "python",
   "nbconvert_exporter": "python",
   "pygments_lexer": "ipython3",
   "version": "3.8.2"
  }
 },
 "nbformat": 4,
 "nbformat_minor": 5
}
