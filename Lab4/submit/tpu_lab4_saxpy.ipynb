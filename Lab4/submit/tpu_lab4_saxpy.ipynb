{
 "cells": [
  {
   "cell_type": "code",
   "execution_count": 1,
   "id": "83399855-82d5-4c32-a33a-217d3dbe8d21",
   "metadata": {},
   "outputs": [
    {
     "data": {
      "application/javascript": [
       "\n",
       "try {\n",
       "require(['notebook/js/codecell'], function(codecell) {\n",
       "  codecell.CodeCell.options_default.highlight_modes[\n",
       "      'magic_text/x-csrc'] = {'reg':[/^%%microblaze/]};\n",
       "  Jupyter.notebook.events.one('kernel_ready.Kernel', function(){\n",
       "      Jupyter.notebook.get_cells().map(function(cell){\n",
       "          if (cell.cell_type == 'code'){ cell.auto_highlight(); } }) ;\n",
       "  });\n",
       "});\n",
       "} catch (e) {};\n"
      ]
     },
     "metadata": {},
     "output_type": "display_data"
    },
    {
     "data": {
      "application/javascript": [
       "\n",
       "try {\n",
       "require(['notebook/js/codecell'], function(codecell) {\n",
       "  codecell.CodeCell.options_default.highlight_modes[\n",
       "      'magic_text/x-csrc'] = {'reg':[/^%%pybind11/]};\n",
       "  Jupyter.notebook.events.one('kernel_ready.Kernel', function(){\n",
       "      Jupyter.notebook.get_cells().map(function(cell){\n",
       "          if (cell.cell_type == 'code'){ cell.auto_highlight(); } }) ;\n",
       "  });\n",
       "});\n",
       "} catch (e) {};\n"
      ]
     },
     "metadata": {},
     "output_type": "display_data"
    }
   ],
   "source": [
    "from pynq import Overlay\n",
    "custom_overlay = Overlay(\"saxpy.bit\")"
   ]
  },
  {
   "cell_type": "code",
   "execution_count": 2,
   "id": "ce5375d7-6ac2-4f52-9f64-cd93708ca83a",
   "metadata": {},
   "outputs": [
    {
     "data": {
      "text/plain": [
       "\u001b[0;31mType:\u001b[0m            Overlay\n",
       "\u001b[0;31mString form:\u001b[0m     <pynq.overlay.Overlay object at 0xaf3eedf0>\n",
       "\u001b[0;31mFile:\u001b[0m            /usr/local/share/pynq-venv/lib/python3.8/site-packages/pynq/overlay.py\n",
       "\u001b[0;31mDocstring:\u001b[0m      \n",
       "Default documentation for overlay saxpy.bit. The following\n",
       "attributes are available on this overlay:\n",
       "\n",
       "IP Blocks\n",
       "----------\n",
       "axi_intc_0           : pynq.overlay.DefaultIP\n",
       "saxpy_0              : pynq.overlay.DefaultIP\n",
       "processing_system7_0 : pynq.overlay.DefaultIP\n",
       "\n",
       "Hierarchies\n",
       "-----------\n",
       "None\n",
       "\n",
       "Interrupts\n",
       "----------\n",
       "None\n",
       "\n",
       "GPIO Outputs\n",
       "------------\n",
       "None\n",
       "\n",
       "Memories\n",
       "------------\n",
       "PSDDR                : Memory\n",
       "\u001b[0;31mClass docstring:\u001b[0m\n",
       "This class keeps track of a single bitstream's state and contents.\n",
       "\n",
       "The overlay class holds the state of the bitstream and enables run-time\n",
       "protection of bindings.\n",
       "\n",
       "Our definition of overlay is: \"post-bitstream configurable design\".\n",
       "Hence, this class must expose configurability through content discovery\n",
       "and runtime protection.\n",
       "\n",
       "The overlay class exposes the IP and hierarchies as attributes in the\n",
       "overlay. If no other drivers are available the `DefaultIP` is constructed\n",
       "for IP cores at top level and `DefaultHierarchy` for any hierarchies that\n",
       "contain addressable IP. Custom drivers can be bound to IP and hierarchies\n",
       "by subclassing `DefaultIP` and `DefaultHierarchy`. See the help entries\n",
       "for those class for more details.\n",
       "\n",
       "This class stores four dictionaries: IP, GPIO, interrupt controller\n",
       "and interrupt pin dictionaries.\n",
       "\n",
       "Each entry of the IP dictionary is a mapping:\n",
       "'name' -> {phys_addr, addr_range, type, config, state}, where\n",
       "name (str) is the key of the entry.\n",
       "phys_addr (int) is the physical address of the IP.\n",
       "addr_range (int) is the address range of the IP.\n",
       "type (str) is the type of the IP.\n",
       "config (dict) is a dictionary of the configuration parameters.\n",
       "state (str) is the state information about the IP.\n",
       "\n",
       "Each entry of the GPIO dictionary is a mapping:\n",
       "'name' -> {pin, state}, where\n",
       "name (str) is the key of the entry.\n",
       "pin (int) is the user index of the GPIO, starting from 0.\n",
       "state (str) is the state information about the GPIO.\n",
       "\n",
       "Each entry in the interrupt controller dictionary is a mapping:\n",
       "'name' -> {parent, index}, where\n",
       "name (str) is the name of the interrupt controller.\n",
       "parent (str) is the name of the parent controller or '' if attached\n",
       "directly to the PS.\n",
       "index (int) is the index of the interrupt attached to.\n",
       "\n",
       "Each entry in the interrupt pin dictionary is a mapping:\n",
       "'name' -> {controller, index}, where\n",
       "name (str) is the name of the pin.\n",
       "controller (str) is the name of the interrupt controller.\n",
       "index (int) is the line index.\n",
       "\n",
       "Attributes\n",
       "----------\n",
       "bitfile_name : str\n",
       "    The absolute path of the bitstream.\n",
       "dtbo : str\n",
       "    The absolute path of the dtbo file for the full bitstream.\n",
       "ip_dict : dict\n",
       "    All the addressable IPs from PS. Key is the name of the IP; value is\n",
       "    a dictionary mapping the physical address, address range, IP type,\n",
       "    parameters, registers, and the state associated with that IP:\n",
       "    {str: {'phys_addr' : int, 'addr_range' : int,                'type' : str, 'parameters' : dict, 'registers': dict,                'state' : str}}.\n",
       "gpio_dict : dict\n",
       "    All the GPIO pins controlled by PS. Key is the name of the GPIO pin;\n",
       "    value is a dictionary mapping user index (starting from 0),\n",
       "    and the state associated with that GPIO pin:\n",
       "    {str: {'index' : int, 'state' : str}}.\n",
       "interrupt_controllers : dict\n",
       "    All AXI interrupt controllers in the system attached to\n",
       "    a PS interrupt line. Key is the name of the controller;\n",
       "    value is a dictionary mapping parent interrupt controller and the\n",
       "    line index of this interrupt:\n",
       "    {str: {'parent': str, 'index' : int}}.\n",
       "    The PS is the root of the hierarchy and is unnamed.\n",
       "interrupt_pins : dict\n",
       "    All pins in the design attached to an interrupt controller.\n",
       "    Key is the name of the pin; value is a dictionary\n",
       "    mapping the interrupt controller and the line index used:\n",
       "    {str: {'controller' : str, 'index' : int}}.\n",
       "pr_dict : dict\n",
       "    Dictionary mapping from the name of the partial-reconfigurable\n",
       "    hierarchical blocks to the loaded partial bitstreams:\n",
       "    {str: {'loaded': str, 'dtbo': str}}.\n",
       "device : pynq.Device\n",
       "    The device that the overlay is loaded on\n",
       "\u001b[0;31mInit docstring:\u001b[0m \n",
       "Return a new Overlay object.\n",
       "\n",
       "An overlay instantiates a bitstream object as a member initially.\n",
       "\n",
       "Parameters\n",
       "----------\n",
       "bitfile_name : str\n",
       "    The bitstream name or absolute path as a string.\n",
       "dtbo : str\n",
       "    The dtbo file name or absolute path as a string.\n",
       "download : bool\n",
       "    Whether the overlay should be downloaded.\n",
       "ignore_version : bool\n",
       "    Indicate whether or not to ignore the driver versions.\n",
       "device : pynq.Device\n",
       "    Device on which to load the Overlay. Defaults to\n",
       "    pynq.Device.active_device\n",
       "\n",
       "Note\n",
       "----\n",
       "This class requires a HWH file to be next to bitstream file\n",
       "with same name (e.g. `base.bit` and `base.hwh`).\n"
      ]
     },
     "metadata": {},
     "output_type": "display_data"
    }
   ],
   "source": [
    "custom_overlay?"
   ]
  },
  {
   "cell_type": "code",
   "execution_count": 3,
   "id": "67877fac-963c-4dba-956f-e855cefa8b4f",
   "metadata": {},
   "outputs": [],
   "source": [
    "saxpy_hw = custom_overlay.saxpy_0"
   ]
  },
  {
   "cell_type": "code",
   "execution_count": 4,
   "id": "b6f408d8-2db3-462f-a543-1bee11c11624",
   "metadata": {},
   "outputs": [
    {
     "data": {
      "text/plain": [
       "RegisterMap {\n",
       "  CTRL = Register(AP_START=0, AP_DONE=0, AP_IDLE=1, AP_READY=0, RESERVED_1=0, AUTO_RESTART=0, RESERVED_2=0),\n",
       "  GIER = Register(Enable=0, RESERVED=0),\n",
       "  IP_IER = Register(CHAN0_INT_EN=0, CHAN1_INT_EN=0, RESERVED=0),\n",
       "  IP_ISR = Register(CHAN0_INT_ST=0, CHAN1_INT_ST=0, RESERVED=0),\n",
       "  x_1 = Register(x=write-only),\n",
       "  x_2 = Register(x=write-only),\n",
       "  y_1 = Register(y=write-only),\n",
       "  y_2 = Register(y=write-only),\n",
       "  a = Register(a=write-only)\n",
       "}"
      ]
     },
     "execution_count": 4,
     "metadata": {},
     "output_type": "execute_result"
    }
   ],
   "source": [
    "saxpy_hw.register_map"
   ]
  },
  {
   "cell_type": "code",
   "execution_count": 5,
   "id": "8f34cd72-c4ab-4642-ab23-6c13fd4e7a46",
   "metadata": {},
   "outputs": [],
   "source": [
    "from pynq import allocate\n",
    "import numpy as np\n",
    "import struct\n",
    "import ctypes"
   ]
  },
  {
   "cell_type": "code",
   "execution_count": 6,
   "id": "ed675df7-a9c8-400c-9d20-5ecc4f7ef809",
   "metadata": {},
   "outputs": [],
   "source": [
    "def python_float_to_binary(num):\n",
    "    ctypes.c_uint.from_buffer(ctypes.c_float(1.0)).value\n",
    "\n",
    "def python_float_to_byte(num):\n",
    "    return struct.pack('!f', num)\n",
    "\n",
    "def python_float_to_uint(num):\n",
    "    return ctypes.c_uint.from_buffer(ctypes.c_float(num)).value"
   ]
  },
  {
   "cell_type": "code",
   "execution_count": 7,
   "id": "00d99b9c-1a60-4a50-be82-67596a73a75c",
   "metadata": {},
   "outputs": [
    {
     "data": {
      "text/plain": [
       "1042284544"
      ]
     },
     "execution_count": 7,
     "metadata": {},
     "output_type": "execute_result"
    }
   ],
   "source": [
    "python_float_to_uint(0.15625)"
   ]
  },
  {
   "cell_type": "code",
   "execution_count": 8,
   "id": "c65aa603-fc18-4321-9e4c-2fa174d2df00",
   "metadata": {},
   "outputs": [],
   "source": [
    "X = [float(i) for i in range(10)]\n",
    "Y = [float(i) for i in range(10)]\n",
    "a = 0.15625"
   ]
  },
  {
   "cell_type": "code",
   "execution_count": 9,
   "id": "c6dc1559-99c4-4045-99d1-4ee21d37d57d",
   "metadata": {},
   "outputs": [
    {
     "data": {
      "text/plain": [
       "(0.15625,\n",
       " [0.0, 1.0, 2.0, 3.0, 4.0, 5.0, 6.0, 7.0, 8.0, 9.0],\n",
       " [0.0, 1.0, 2.0, 3.0, 4.0, 5.0, 6.0, 7.0, 8.0, 9.0])"
      ]
     },
     "execution_count": 9,
     "metadata": {},
     "output_type": "execute_result"
    }
   ],
   "source": [
    "a,X,Y"
   ]
  },
  {
   "cell_type": "code",
   "execution_count": 10,
   "id": "ac1c1c77-7faf-4ef3-9066-2f072e3a5d5e",
   "metadata": {},
   "outputs": [],
   "source": [
    "xbuf_test = allocate(shape=(10,), dtype='float32')\n",
    "ybuf_test = allocate(shape=(10,), dtype='float32')\n",
    "abuf = python_float_to_uint(a)"
   ]
  },
  {
   "cell_type": "code",
   "execution_count": 11,
   "id": "8bcd09ba-942c-420b-9e15-d90cfaec79dd",
   "metadata": {},
   "outputs": [],
   "source": [
    "np.copyto(xbuf_test,X)\n",
    "np.copyto(ybuf_test,Y)\n",
    "#np.copyto(abuf,a)"
   ]
  },
  {
   "cell_type": "code",
   "execution_count": 12,
   "id": "e79d265b-e622-48d8-8aca-af6b877031f0",
   "metadata": {},
   "outputs": [
    {
     "data": {
      "text/plain": [
       "(PynqBuffer([0., 1., 2., 3., 4., 5., 6., 7., 8., 9.], dtype=float32),\n",
       " PynqBuffer([0., 1., 2., 3., 4., 5., 6., 7., 8., 9.], dtype=float32),\n",
       " 1042284544)"
      ]
     },
     "execution_count": 12,
     "metadata": {},
     "output_type": "execute_result"
    }
   ],
   "source": [
    "xbuf_test,ybuf_test,abuf"
   ]
  },
  {
   "cell_type": "code",
   "execution_count": 13,
   "id": "c9b59d4f-65ed-4bc1-9fd0-96dc1c88d01a",
   "metadata": {},
   "outputs": [
    {
     "data": {
      "text/plain": [
       "(377823232, 377827328)"
      ]
     },
     "execution_count": 13,
     "metadata": {},
     "output_type": "execute_result"
    }
   ],
   "source": [
    "xbuf_test.device_address, ybuf_test.device_address"
   ]
  },
  {
   "cell_type": "code",
   "execution_count": 14,
   "id": "8cb1e08e-ee3c-4c2f-8123-4bb5966b0349",
   "metadata": {},
   "outputs": [
    {
     "data": {
      "text/plain": [
       "Register(a=write-only)"
      ]
     },
     "execution_count": 14,
     "metadata": {},
     "output_type": "execute_result"
    }
   ],
   "source": [
    "saxpy_hw.register_map.a"
   ]
  },
  {
   "cell_type": "code",
   "execution_count": 15,
   "id": "6d543d9b-6ae4-4ee7-9743-480d42ddc9f0",
   "metadata": {},
   "outputs": [
    {
     "data": {
      "text/plain": [
       "RegisterMap {\n",
       "  CTRL = Register(AP_START=0, AP_DONE=0, AP_IDLE=1, AP_READY=0, RESERVED_1=0, AUTO_RESTART=0, RESERVED_2=0),\n",
       "  GIER = Register(Enable=0, RESERVED=0),\n",
       "  IP_IER = Register(CHAN0_INT_EN=0, CHAN1_INT_EN=0, RESERVED=0),\n",
       "  IP_ISR = Register(CHAN0_INT_ST=0, CHAN1_INT_ST=0, RESERVED=0),\n",
       "  x_1 = Register(x=write-only),\n",
       "  x_2 = Register(x=write-only),\n",
       "  y_1 = Register(y=write-only),\n",
       "  y_2 = Register(y=write-only),\n",
       "  a = Register(a=write-only)\n",
       "}"
      ]
     },
     "execution_count": 15,
     "metadata": {},
     "output_type": "execute_result"
    }
   ],
   "source": [
    "saxpy_hw.register_map"
   ]
  },
  {
   "cell_type": "code",
   "execution_count": 16,
   "id": "37123c05-4587-40a3-8a5d-f737869aa9bc",
   "metadata": {},
   "outputs": [],
   "source": [
    "#saxpy_hw.write(saxpy_hw.register_map.a.address, )"
   ]
  },
  {
   "cell_type": "code",
   "execution_count": 17,
   "id": "6c4d74a8-0017-41db-8442-e5da0babee65",
   "metadata": {},
   "outputs": [],
   "source": [
    "#x_1, x_2 중 input으로 활용되는건 x_1\n",
    "saxpy_hw.register_map.x_1 = xbuf_test.device_address\n",
    "#saxpy_hw.register_map.x_2 = xbuf_test.device_address\n",
    "saxpy_hw.register_map.a = abuf\n",
    "saxpy_hw.register_map.y_1 = ybuf_test.device_address\n",
    "#saxpy_hw.register_map.y_2 = ybuf_test.device_address"
   ]
  },
  {
   "cell_type": "code",
   "execution_count": 18,
   "id": "789d7cb5-1099-480a-95f2-1eedd7608177",
   "metadata": {},
   "outputs": [
    {
     "data": {
      "text/plain": [
       "PynqBuffer([0., 1., 2., 3., 4., 5., 6., 7., 8., 9.], dtype=float32)"
      ]
     },
     "execution_count": 18,
     "metadata": {},
     "output_type": "execute_result"
    }
   ],
   "source": [
    "ybuf_test\n",
    "#이거 할 때 연산이 끝났다는 보장 없음."
   ]
  },
  {
   "cell_type": "code",
   "execution_count": 19,
   "id": "2a68fc15-924a-488a-807d-86ec81c548ed",
   "metadata": {},
   "outputs": [],
   "source": [
    "saxpy_hw.register_map.CTRL.AP_START = 1"
   ]
  },
  {
   "cell_type": "code",
   "execution_count": 20,
   "id": "4c938632-b12a-4171-9d27-5255329be41c",
   "metadata": {},
   "outputs": [
    {
     "data": {
      "text/plain": [
       "PynqBuffer([ 0.     ,  1.15625,  2.3125 ,  3.46875,  4.625  ,  5.78125,\n",
       "             6.9375 ,  8.09375,  9.25   , 10.40625], dtype=float32)"
      ]
     },
     "execution_count": 20,
     "metadata": {},
     "output_type": "execute_result"
    }
   ],
   "source": [
    "ybuf_test\n",
    "#이거 할 때 연산이 끝났다는 보장 없음."
   ]
  },
  {
   "cell_type": "code",
   "execution_count": 21,
   "id": "56cac0e3-5a57-4d72-898b-9576d4e22ec2",
   "metadata": {},
   "outputs": [
    {
     "data": {
      "text/plain": [
       "[0.0, 1.0, 2.0, 3.0, 4.0, 5.0, 6.0, 7.0, 8.0, 9.0]"
      ]
     },
     "execution_count": 21,
     "metadata": {},
     "output_type": "execute_result"
    }
   ],
   "source": [
    "Y"
   ]
  },
  {
   "cell_type": "code",
   "execution_count": 22,
   "id": "d0d20678-f9b3-4b40-9145-2d1045c4c3cf",
   "metadata": {},
   "outputs": [],
   "source": [
    "saxpy_hw.register_map.GIER = 1"
   ]
  },
  {
   "cell_type": "code",
   "execution_count": 23,
   "id": "01ddf708-716d-46a4-a0b7-d402caf95cee",
   "metadata": {},
   "outputs": [],
   "source": [
    "saxpy_hw.register_map.IP_IER.CHAN0_INT_EN = 1"
   ]
  },
  {
   "cell_type": "code",
   "execution_count": 24,
   "id": "39681147-e72c-4395-8144-3aa599955706",
   "metadata": {},
   "outputs": [
    {
     "data": {
      "text/plain": [
       "RegisterMap {\n",
       "  CTRL = Register(AP_START=0, AP_DONE=0, AP_IDLE=1, AP_READY=0, RESERVED_1=0, AUTO_RESTART=0, RESERVED_2=0),\n",
       "  GIER = Register(Enable=1, RESERVED=0),\n",
       "  IP_IER = Register(CHAN0_INT_EN=1, CHAN1_INT_EN=0, RESERVED=0),\n",
       "  IP_ISR = Register(CHAN0_INT_ST=0, CHAN1_INT_ST=0, RESERVED=0),\n",
       "  x_1 = Register(x=write-only),\n",
       "  x_2 = Register(x=write-only),\n",
       "  y_1 = Register(y=write-only),\n",
       "  y_2 = Register(y=write-only),\n",
       "  a = Register(a=write-only)\n",
       "}"
      ]
     },
     "execution_count": 24,
     "metadata": {},
     "output_type": "execute_result"
    }
   ],
   "source": [
    "saxpy_hw.register_map"
   ]
  },
  {
   "cell_type": "code",
   "execution_count": 25,
   "id": "e7d3bd85-cd26-42c6-a126-4ca81b4731e7",
   "metadata": {},
   "outputs": [],
   "source": [
    "class saxpy_overlay(Overlay):\n",
    "    def set_interrupt(self):\n",
    "        saxpy_ip = self.saxpy_0\n",
    "        saxpy_ip.register_map.GIER = 1\n",
    "        saxpy_ip.register_map.IP_IER.CHAN0_INT_EN = 1\n",
    "    \n",
    "    def run(self,X,Y,a):\n",
    "        saxpy_ip = self.saxpy_0\n",
    "        \n",
    "        self.set_interrupt()\n",
    "        \n",
    "        xbuf = allocate(shape=(10,), dtype='float32')\n",
    "        ybuf = allocate(shape=(10,), dtype='float32')\n",
    "        abuf = python_float_to_uint(a)\n",
    "        np.copyto(xbuf,X)\n",
    "        np.copyto(ybuf,Y)\n",
    "        \n",
    "        saxpy_ip.register_map.x_1 = xbuf.device_address\n",
    "        saxpy_ip.register_map.y_1 = ybuf.device_address\n",
    "        saxpy_ip.write(saxpy_ip.register_map.a.address,abuf)\n",
    "        \n",
    "        saxpy_hw.register_map.CTRL.AP_START = 1\n",
    "        \n",
    "        while(saxpy_hw.register_map.CTRL.AP_IDLE != 1):\n",
    "            continue\n",
    "            \n",
    "        return ybuf"
   ]
  },
  {
   "cell_type": "code",
   "execution_count": 26,
   "id": "e2b3f951-9172-4db5-9091-16c90e5079a9",
   "metadata": {},
   "outputs": [],
   "source": [
    "SAXPY = saxpy_overlay(\"saxpy.bit\")\n"
   ]
  },
  {
   "cell_type": "code",
   "execution_count": 27,
   "id": "17e692ef-281d-48da-a860-c589a658fbc4",
   "metadata": {},
   "outputs": [
    {
     "data": {
      "text/plain": [
       "PynqBuffer([ 0.     ,  1.15625,  2.3125 ,  3.46875,  4.625  ,  5.78125,\n",
       "             6.9375 ,  8.09375,  9.25   , 10.40625], dtype=float32)"
      ]
     },
     "execution_count": 27,
     "metadata": {},
     "output_type": "execute_result"
    }
   ],
   "source": [
    "SAXPY.run(X,Y,a)"
   ]
  },
  {
   "cell_type": "code",
   "execution_count": 28,
   "id": "34112937-83f7-4f93-ba88-c867fcb5c86b",
   "metadata": {},
   "outputs": [],
   "source": [
    "def tc_gen(len=10):\n",
    "    return np.random.rand(1,len)"
   ]
  },
  {
   "cell_type": "code",
   "execution_count": 29,
   "id": "95ae79e4-1f3b-41c2-bdb7-b761401597fd",
   "metadata": {},
   "outputs": [],
   "source": [
    "def sw_saxpy_test(X,Y,a):\n",
    "    Y_hw = SAXPY.run(X,Y,a)\n",
    "    Y = np.array(Y, dtype = 'float32')\n",
    "    X = np.array(X, dtype = 'float32')\n",
    "    Y_sw = Y + a*X\n",
    "    Y_sw = Y_sw[0]\n",
    "    print('Y_hw: ',Y_hw)\n",
    "    print('Y_sw: ',Y_sw)\n",
    "    for i in range(10):\n",
    "        if(Y_hw[i] != Y_sw[i]):\n",
    "            return False\n",
    "    return True"
   ]
  },
  {
   "cell_type": "code",
   "execution_count": 30,
   "id": "938a52ff-c9cc-4929-bb0d-392b3aca48cd",
   "metadata": {},
   "outputs": [
    {
     "name": "stdout",
     "output_type": "stream",
     "text": [
      "Y_hw:  [0.40879497 0.23080269 0.35910225 0.7982199  0.68597424 1.147953\n",
      " 0.30933586 0.6696626  0.93188953 1.0193346 ]\n",
      "Y_sw:  [0.40879497 0.23080269 0.35910225 0.7982199  0.68597424 1.147953\n",
      " 0.30933586 0.6696626  0.93188953 1.0193346 ]\n"
     ]
    },
    {
     "data": {
      "text/plain": [
       "True"
      ]
     },
     "execution_count": 30,
     "metadata": {},
     "output_type": "execute_result"
    }
   ],
   "source": [
    "X = tc_gen()\n",
    "Y = tc_gen()\n",
    "a = tc_gen(1).item()\n",
    "sw_saxpy_test(X,Y,a)"
   ]
  },
  {
   "cell_type": "code",
   "execution_count": 31,
   "id": "0727c6fe-dfbe-42e6-96fd-0ad36ca16b50",
   "metadata": {},
   "outputs": [
    {
     "data": {
      "text/plain": [
       "'\\nvoid saxpy(float* x, float* y, float a){\\n\\tfor(int i=0;i<SIZE;++i){\\n\\t\\ty[i] += a*x[i];\\n\\t}\\n}\\n\\n'"
      ]
     },
     "execution_count": 31,
     "metadata": {},
     "output_type": "execute_result"
    }
   ],
   "source": [
    "## FFT 에서 썼던 receive wait\n",
    "import asyncio\n",
    "# https://pynq.readthedocs.io/en/v2.7.0/overlay_design_methodology/pynq_and_asyncio.html\n",
    "# https://www.xilinx.com/htmldocs/xilinx2017_4/sdaccel_doc/fde1504034360078.html\n",
    "## DAXPY = Double Precision A X plus Y\n",
    "## SAXPY = Single Precision A X plus Y --> floating point\n",
    "\n",
    "# Make DAXPY\n",
    "# Z = aX + Y (all in float32) (10 elements)\n",
    "# only two address, Y += aX, accumulation\n",
    "\n",
    "'''\n",
    "void saxpy_hw(float* x, float* y, float a){\n",
    "    \n",
    "}\n",
    "'''\n",
    "\n",
    "'''\n",
    "void saxpy(float* x, float* y, float a){\n",
    "\tfor(int i=0;i<SIZE;++i){\n",
    "\t\ty[i] += a*x[i];\n",
    "\t}\n",
    "}\n",
    "\n",
    "'''"
   ]
  }
 ],
 "metadata": {
  "kernelspec": {
   "display_name": "Python 3",
   "language": "python",
   "name": "python3"
  },
  "language_info": {
   "codemirror_mode": {
    "name": "ipython",
    "version": 3
   },
   "file_extension": ".py",
   "mimetype": "text/x-python",
   "name": "python",
   "nbconvert_exporter": "python",
   "pygments_lexer": "ipython3",
   "version": "3.8.2"
  }
 },
 "nbformat": 4,
 "nbformat_minor": 5
}
