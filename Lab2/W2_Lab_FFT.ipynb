{
 "cells": [
  {
   "cell_type": "code",
   "execution_count": 17,
   "id": "bbc8b138",
   "metadata": {},
   "outputs": [],
   "source": [
    "# read overlay \n",
    "\n",
    "from pynq import Overlay\n",
    "overlay = Overlay(\"fft.bit\")\n",
    "LOGN = 10\n",
    "N = 2**LOGN"
   ]
  },
  {
   "cell_type": "code",
   "execution_count": 18,
   "id": "12d843a0",
   "metadata": {},
   "outputs": [],
   "source": [
    "dma_DATA = overlay.axi_dma_0\n",
    "dma_CONFIG = overlay.axi_dma_1"
   ]
  },
  {
   "cell_type": "code",
   "execution_count": 19,
   "id": "50076f31",
   "metadata": {},
   "outputs": [],
   "source": [
    "import numpy as np\n",
    "from pynq import allocate"
   ]
  },
  {
   "cell_type": "code",
   "execution_count": 20,
   "id": "1f9a3b4c",
   "metadata": {},
   "outputs": [],
   "source": [
    "dataIN = allocate(shape=(N,),dtype='uint32')\n",
    "dataOUT = allocate(shape=(N,),dtype='int32')\n",
    "config = allocate(shape=(1,), dtype='uint32')"
   ]
  },
  {
   "cell_type": "code",
   "execution_count": 21,
   "id": "0d57c13b",
   "metadata": {},
   "outputs": [],
   "source": [
    "fftdata = np.random.randint(50, size=(N,), dtype=np.uint32)\n",
    "np.copyto(dataIN, fftdata)\n",
    "np.copyto(config, np.array([0b000001110000000000000000 + LOGN], dtype='uint32'))"
   ]
  },
  {
   "cell_type": "code",
   "execution_count": 22,
   "id": "ad82f5f6",
   "metadata": {},
   "outputs": [],
   "source": [
    "dma_CONFIG.sendchannel.transfer(config)\n",
    "dma_CONFIG.sendchannel.wait()"
   ]
  },
  {
   "cell_type": "code",
   "execution_count": 23,
   "id": "b277058b",
   "metadata": {},
   "outputs": [
    {
     "name": "stdout",
     "output_type": "stream",
     "text": [
      "692 µs ± 14.3 µs per loop (mean ± std. dev. of 7 runs, 1000 loops each)\n"
     ]
    }
   ],
   "source": [
    "%%timeit\n",
    "#dma_CONFIG.sendchannel.transfer(config)\n",
    "dma_DATA.sendchannel.transfer(dataIN)\n",
    "dma_DATA.recvchannel.transfer(dataOUT)\n",
    "#dma_CONFIG.sendchannel.wait()\n",
    "dma_DATA.sendchannel.wait()\n",
    "dma_DATA.recvchannel.wait()\n",
    "#dataOUT"
   ]
  },
  {
   "cell_type": "code",
   "execution_count": 24,
   "id": "50e50cc7",
   "metadata": {},
   "outputs": [
    {
     "name": "stdout",
     "output_type": "stream",
     "text": [
      "385 µs ± 2.79 µs per loop (mean ± std. dev. of 7 runs, 1000 loops each)\n"
     ]
    }
   ],
   "source": [
    "%%timeit \n",
    "npres = np.fft.fft(fftdata)"
   ]
  },
  {
   "cell_type": "code",
   "execution_count": null,
   "id": "6f6b21f4",
   "metadata": {},
   "outputs": [],
   "source": []
  },
  {
   "cell_type": "code",
   "execution_count": null,
   "id": "c992970c",
   "metadata": {},
   "outputs": [],
   "source": []
  }
 ],
 "metadata": {
  "kernelspec": {
   "display_name": "Python 3",
   "language": "python",
   "name": "python3"
  },
  "language_info": {
   "codemirror_mode": {
    "name": "ipython",
    "version": 3
   },
   "file_extension": ".py",
   "mimetype": "text/x-python",
   "name": "python",
   "nbconvert_exporter": "python",
   "pygments_lexer": "ipython3",
   "version": "3.8.2"
  }
 },
 "nbformat": 4,
 "nbformat_minor": 5
}
