{
 "cells": [
  {
   "cell_type": "code",
   "execution_count": 1,
   "id": "1e546eeb",
   "metadata": {},
   "outputs": [
    {
     "data": {
      "application/javascript": [
       "\n",
       "try {\n",
       "require(['notebook/js/codecell'], function(codecell) {\n",
       "  codecell.CodeCell.options_default.highlight_modes[\n",
       "      'magic_text/x-csrc'] = {'reg':[/^%%microblaze/]};\n",
       "  Jupyter.notebook.events.one('kernel_ready.Kernel', function(){\n",
       "      Jupyter.notebook.get_cells().map(function(cell){\n",
       "          if (cell.cell_type == 'code'){ cell.auto_highlight(); } }) ;\n",
       "  });\n",
       "});\n",
       "} catch (e) {};\n"
      ]
     },
     "metadata": {},
     "output_type": "display_data"
    },
    {
     "data": {
      "application/javascript": [
       "\n",
       "try {\n",
       "require(['notebook/js/codecell'], function(codecell) {\n",
       "  codecell.CodeCell.options_default.highlight_modes[\n",
       "      'magic_text/x-csrc'] = {'reg':[/^%%pybind11/]};\n",
       "  Jupyter.notebook.events.one('kernel_ready.Kernel', function(){\n",
       "      Jupyter.notebook.get_cells().map(function(cell){\n",
       "          if (cell.cell_type == 'code'){ cell.auto_highlight(); } }) ;\n",
       "  });\n",
       "});\n",
       "} catch (e) {};\n"
      ]
     },
     "metadata": {},
     "output_type": "display_data"
    }
   ],
   "source": [
    "from pynq import Overlay\n",
    "import string\n",
    "import pandas as pd\n",
    "import numpy as np\n",
    "from pynq import allocate"
   ]
  },
  {
   "cell_type": "code",
   "execution_count": 2,
   "id": "e6ccdbb7",
   "metadata": {},
   "outputs": [],
   "source": [
    "custom_hw = Overlay(\"newdmamatch.bit\")\n",
    "#custom_hw?"
   ]
  },
  {
   "cell_type": "code",
   "execution_count": 3,
   "id": "a52f6d18",
   "metadata": {},
   "outputs": [],
   "source": [
    "#set dma\n",
    "dma_config = custom_hw.axi_dma_2\n",
    "dma_datain = custom_hw.axi_dma_1\n",
    "dma_dataout = custom_hw.axi_dma_0"
   ]
  },
  {
   "cell_type": "code",
   "execution_count": 4,
   "id": "03a90049",
   "metadata": {},
   "outputs": [],
   "source": [
    "def dma_check():\n",
    "    dma_config?\n",
    "    dma_datain?\n",
    "    dma_dataout?"
   ]
  },
  {
   "cell_type": "code",
   "execution_count": 5,
   "id": "29b01735",
   "metadata": {},
   "outputs": [],
   "source": [
    "logn = 3\n",
    "N = 2**logn"
   ]
  },
  {
   "cell_type": "code",
   "execution_count": 6,
   "id": "818f9922",
   "metadata": {},
   "outputs": [],
   "source": [
    "inbuffer = allocate(shape=(N,), dtype='uint32')\n",
    "outbuffer = allocate(shape=(N,), dtype='uint32')\n",
    "configbuffer = allocate(shape=(1,), dtype='uint32')"
   ]
  },
  {
   "cell_type": "code",
   "execution_count": 7,
   "id": "2e476b7c",
   "metadata": {},
   "outputs": [],
   "source": [
    "fftdata = np.random.randint(128, size=(N,), dtype=np.uint32)\n",
    "#fftdata = np.array([128,128,128,128,128,128,128,128], dtype = 'uint32')\n",
    "np.copyto(inbuffer, fftdata)"
   ]
  },
  {
   "cell_type": "code",
   "execution_count": 8,
   "id": "3bf0f7e6",
   "metadata": {},
   "outputs": [
    {
     "data": {
      "text/plain": [
       "PynqBuffer([0], dtype=uint32)"
      ]
     },
     "execution_count": 8,
     "metadata": {},
     "output_type": "execute_result"
    }
   ],
   "source": [
    "configbuffer"
   ]
  },
  {
   "cell_type": "code",
   "execution_count": 9,
   "id": "841f06c5",
   "metadata": {},
   "outputs": [],
   "source": [
    "def uint_to_cplx(buffer):\n",
    "    cplx_ret = []\n",
    "    only_real = []\n",
    "    only_imag = []\n",
    "    \n",
    "    num_bits = 32\n",
    "    complex_format_string = '({})+({}i)'\n",
    "    convert_format_string = 'uint32:{}, complex form : {}, XN_RE_bit {}, XN_IM_bit {}, XN_RE_asbyte {}, XN_RE_fixed {}'\n",
    "    num_bits = 32\n",
    "    for x in buffer:\n",
    "        x_32rawbit = f'{x:0{num_bits}b}'\n",
    "        XN_IM_bits = x_32rawbit[0:16]\n",
    "        XN_RE_bits = x_32rawbit[16:32]\n",
    "        \n",
    "        XN_RE_chk = int(XN_RE_bits, 2)\n",
    "        \n",
    "        \n",
    "        XN_RE_bytes = int(XN_RE_bits, 2).to_bytes(2, byteorder = 'little')\n",
    "        XN_IM_bytes = int(XN_IM_bits, 2).to_bytes(2, byteorder = 'little')\n",
    "        \n",
    "        XN_RE_fixed = int.from_bytes(XN_RE_bytes, byteorder = 'little', signed = True)\n",
    "        XN_IM_fixed = int.from_bytes(XN_IM_bytes, byteorder = 'little', signed = True)\n",
    "        \n",
    "        XN_RE_fixed = XN_RE_fixed / 256.0\n",
    "        XN_IM_fixed = XN_IM_fixed / 256.0\n",
    "        \n",
    "        cplx_form = complex_format_string.format(XN_RE_fixed, XN_IM_fixed)\n",
    "        \n",
    "        cplx_ret.append(cplx_form)\n",
    "        only_real.append(XN_RE_fixed)\n",
    "        only_imag.append(XN_IM_fixed)\n",
    "        \n",
    "        def check_by_print(chk):\n",
    "            #internal check function\n",
    "            if(chk == True):\n",
    "                print(XN_RE_bits)\n",
    "                print(XN_RE_chk)\n",
    "                print(XN_RE_bytes)\n",
    "                print(XN_RE_fixed)\n",
    "                print(convert_format_string.format(\n",
    "                    x, cplx_form, XN_RE_bits, XN_IM_bits, XN_RE_bytes, XN_RE_fixed\n",
    "                    )\n",
    "                )\n",
    "        \n",
    "        check_by_print(False)\n",
    "        \n",
    "    return cplx_ret,only_real,only_imag"
   ]
  },
  {
   "cell_type": "code",
   "execution_count": 10,
   "id": "ed297ca5",
   "metadata": {},
   "outputs": [
    {
     "data": {
      "text/plain": [
       "(['(127.99609375)+(0.0i)'], [127.99609375], [0.0])"
      ]
     },
     "execution_count": 10,
     "metadata": {},
     "output_type": "execute_result"
    }
   ],
   "source": [
    "test_input = np.array([32767,], dtype='uint32')\n",
    "uint_to_cplx(test_input)"
   ]
  },
  {
   "cell_type": "code",
   "execution_count": 11,
   "id": "0042a8cc",
   "metadata": {},
   "outputs": [
    {
     "data": {
      "text/plain": [
       "PynqBuffer([ 7, 35,  3, 29, 31,  5,  0, 15], dtype=uint32)"
      ]
     },
     "execution_count": 11,
     "metadata": {},
     "output_type": "execute_result"
    }
   ],
   "source": [
    "inbuffer"
   ]
  },
  {
   "cell_type": "code",
   "execution_count": 12,
   "id": "ffeaf671",
   "metadata": {},
   "outputs": [
    {
     "data": {
      "text/plain": [
       "(['(0.02734375)+(0.0i)',\n",
       "  '(0.13671875)+(0.0i)',\n",
       "  '(0.01171875)+(0.0i)',\n",
       "  '(0.11328125)+(0.0i)',\n",
       "  '(0.12109375)+(0.0i)',\n",
       "  '(0.01953125)+(0.0i)',\n",
       "  '(0.0)+(0.0i)',\n",
       "  '(0.05859375)+(0.0i)'],\n",
       " array([0.02734375+0.j, 0.13671875+0.j, 0.01171875+0.j, 0.11328125+0.j,\n",
       "        0.12109375+0.j, 0.01953125+0.j, 0.        +0.j, 0.05859375+0.j]))"
      ]
     },
     "execution_count": 12,
     "metadata": {},
     "output_type": "execute_result"
    }
   ],
   "source": [
    "inbuffer_cplx_form, inbuffer_only_real, inbuffer_only_imag = uint_to_cplx(inbuffer)\n",
    "inbuffer_nparray = np.vectorize(complex)(inbuffer_only_real,inbuffer_only_imag)\n",
    "inbuffer_cplx_form, inbuffer_nparray"
   ]
  },
  {
   "cell_type": "code",
   "execution_count": 13,
   "id": "f71e464a",
   "metadata": {},
   "outputs": [],
   "source": [
    "configbuffer[0] = 0b000001110000000000000000 + logn"
   ]
  },
  {
   "cell_type": "code",
   "execution_count": 14,
   "id": "961580b2",
   "metadata": {},
   "outputs": [],
   "source": [
    "dma_config.sendchannel.transfer(configbuffer)"
   ]
  },
  {
   "cell_type": "code",
   "execution_count": 15,
   "id": "8188a773",
   "metadata": {},
   "outputs": [],
   "source": [
    "dma_config.sendchannel.wait()"
   ]
  },
  {
   "cell_type": "code",
   "execution_count": 16,
   "id": "ffb5dd38",
   "metadata": {},
   "outputs": [
    {
     "name": "stdout",
     "output_type": "stream",
     "text": [
      "705 µs ± 2.21 µs per loop (mean ± std. dev. of 7 runs, 1000 loops each)\n"
     ]
    }
   ],
   "source": [
    "%%timeit\n",
    "dma_datain.sendchannel.transfer(inbuffer)\n",
    "dma_dataout.recvchannel.transfer(outbuffer)\n",
    "dma_datain.sendchannel.wait()\n",
    "dma_dataout.recvchannel.wait()"
   ]
  },
  {
   "cell_type": "code",
   "execution_count": 17,
   "id": "41c5d84b",
   "metadata": {},
   "outputs": [
    {
     "data": {
      "text/plain": [
       "PynqBuffer([       125,      65493, 4294705187,     262179,    2293747,\n",
       "            4293197789,    1900508, 4292804596], dtype=uint32)"
      ]
     },
     "execution_count": 17,
     "metadata": {},
     "output_type": "execute_result"
    }
   ],
   "source": [
    "outbuffer"
   ]
  },
  {
   "cell_type": "code",
   "execution_count": 18,
   "id": "25f0d26a",
   "metadata": {
    "scrolled": false
   },
   "outputs": [
    {
     "data": {
      "text/plain": [
       "array([ 0.48828125+0.j       , -0.16796875+0.j       ,\n",
       "        0.13671875-0.015625j ,  0.13671875+0.015625j ,\n",
       "       -0.05078125+0.1328125j, -0.13671875-0.109375j ,\n",
       "       -0.140625  +0.109375j , -0.046875  -0.1328125j])"
      ]
     },
     "execution_count": 18,
     "metadata": {},
     "output_type": "execute_result"
    }
   ],
   "source": [
    "_,output_only_real,output_only_imag = uint_to_cplx(outbuffer)\n",
    "fft_hw_output = np.vectorize(complex)(output_only_real, output_only_imag)\n",
    "fft_hw_output"
   ]
  },
  {
   "cell_type": "code",
   "execution_count": 19,
   "id": "470020f5",
   "metadata": {},
   "outputs": [
    {
     "name": "stdout",
     "output_type": "stream",
     "text": [
      "60 µs ± 134 ns per loop (mean ± std. dev. of 7 runs, 10000 loops each)\n"
     ]
    }
   ],
   "source": [
    "%%timeit\n",
    "npresult = np.fft.fft(fftdata)"
   ]
  },
  {
   "cell_type": "code",
   "execution_count": 20,
   "id": "569f3d3d",
   "metadata": {
    "scrolled": true
   },
   "outputs": [
    {
     "name": "stdout",
     "output_type": "stream",
     "text": [
      "[ 0.48828125+0.j         -0.04955583-0.13325273j  0.13671875+0.015625j\n",
      " -0.13794417-0.10981523j -0.16796875+0.j         -0.13794417+0.10981523j\n",
      "  0.13671875-0.015625j   -0.04955583+0.13325273j]\n"
     ]
    }
   ],
   "source": [
    "fft_sw_numpy = np.array(inbuffer_only_real)\n",
    "fft_sw_output = np.fft.fft(fft_sw_numpy)\n",
    "print(fft_sw_output)"
   ]
  },
  {
   "cell_type": "code",
   "execution_count": 21,
   "id": "30941378",
   "metadata": {},
   "outputs": [],
   "source": [
    "def float32_to_fixed16(float32_val):\n",
    "    float32_mul = float32_val*(256.0)\n",
    "    float32_mul += 0.5\n",
    "    float32_int = int(float32_mul)\n",
    "    \n",
    "    float32_asbytes = float32_int.to_bytes(2, byteorder = 'little',signed = True)\n",
    "    float32_fixed = int.from_bytes(float32_asbytes, byteorder = 'little', signed = True)\n",
    "    float32_fixed = float32_fixed / 256.0\n",
    "    \n",
    "    return float32_fixed\n",
    "    "
   ]
  },
  {
   "cell_type": "code",
   "execution_count": 22,
   "id": "5dc74540",
   "metadata": {
    "scrolled": true
   },
   "outputs": [],
   "source": [
    "fft_real = fft_sw_output.real\n",
    "fft_imag = fft_sw_output.imag"
   ]
  },
  {
   "cell_type": "code",
   "execution_count": 23,
   "id": "b4d30ea2",
   "metadata": {},
   "outputs": [
    {
     "data": {
      "text/plain": [
       "array([ 0.48828125+0.j        , -0.046875  -0.12890625j,\n",
       "        0.13671875+0.015625j  , -0.1328125 -0.10546875j,\n",
       "       -0.1640625 +0.j        , -0.1328125 +0.109375j  ,\n",
       "        0.13671875-0.01171875j, -0.046875  +0.1328125j ])"
      ]
     },
     "execution_count": 23,
     "metadata": {},
     "output_type": "execute_result"
    }
   ],
   "source": [
    "fft_real_fixed = []\n",
    "fft_imag_fixed = []\n",
    "for x in fft_real:\n",
    "    fft_real_fixed.append(float32_to_fixed16(x))\n",
    "for x in fft_imag:\n",
    "    fft_imag_fixed.append(float32_to_fixed16(x))\n",
    "#fft_real_fixed,fft_imag_fixed\n",
    "fft_sw_fixed16 = np.vectorize(complex)(fft_real_fixed,fft_imag_fixed)\n",
    "fft_sw_fixed16"
   ]
  },
  {
   "cell_type": "code",
   "execution_count": 24,
   "id": "967646a3",
   "metadata": {},
   "outputs": [],
   "source": [
    "sorted_fft_hw_output = sorted(fft_hw_output)\n",
    "sorted_fft_sw_output = sorted(fft_sw_output)\n",
    "sorted_fft_sw_fixed16 = sorted(fft_sw_fixed16)"
   ]
  },
  {
   "cell_type": "code",
   "execution_count": 25,
   "id": "695c6c71",
   "metadata": {},
   "outputs": [
    {
     "data": {
      "text/plain": [
       "array([[-0.16796875+0.j        , -0.16796875+0.j        ,\n",
       "        -0.1640625 +0.j        ],\n",
       "       [-0.140625  +0.109375j  , -0.13794417-0.10981523j,\n",
       "        -0.1328125 -0.10546875j],\n",
       "       [-0.13671875-0.109375j  , -0.13794417+0.10981523j,\n",
       "        -0.1328125 +0.109375j  ],\n",
       "       [-0.05078125+0.1328125j , -0.04955583-0.13325273j,\n",
       "        -0.046875  -0.12890625j],\n",
       "       [-0.046875  -0.1328125j , -0.04955583+0.13325273j,\n",
       "        -0.046875  +0.1328125j ],\n",
       "       [ 0.13671875-0.015625j  ,  0.13671875-0.015625j  ,\n",
       "         0.13671875-0.01171875j],\n",
       "       [ 0.13671875+0.015625j  ,  0.13671875+0.015625j  ,\n",
       "         0.13671875+0.015625j  ],\n",
       "       [ 0.48828125+0.j        ,  0.48828125+0.j        ,\n",
       "         0.48828125+0.j        ]])"
      ]
     },
     "execution_count": 25,
     "metadata": {},
     "output_type": "execute_result"
    }
   ],
   "source": [
    "result_stacked = np.stack((sorted_fft_hw_output,sorted_fft_sw_output,sorted_fft_sw_fixed16), axis=1)\n",
    "result_stacked"
   ]
  },
  {
   "cell_type": "code",
   "execution_count": 26,
   "id": "9cea6d70",
   "metadata": {},
   "outputs": [
    {
     "data": {
      "text/plain": [
       "[0j,\n",
       " (0.01171875+0j),\n",
       " (0.019531249999999993+0j),\n",
       " (0.02734375+0j),\n",
       " (0.05859374999999999+0j),\n",
       " (0.11328125+0j),\n",
       " (0.12109375+0j),\n",
       " (0.13671875+0j)]"
      ]
     },
     "execution_count": 26,
     "metadata": {},
     "output_type": "execute_result"
    }
   ],
   "source": [
    "ifft_sw_output = np.fft.ifft(fft_sw_output)\n",
    "sorted(ifft_sw_output)"
   ]
  },
  {
   "cell_type": "code",
   "execution_count": 27,
   "id": "d04aa0db",
   "metadata": {},
   "outputs": [
    {
     "data": {
      "text/plain": [
       "[(0.02734375+0j),\n",
       " (0.04123050755684948+0.028079148757036078j),\n",
       " (0.04795987568698632-0.03435144908293905j),\n",
       " (0.05419921875-0.04443359375j),\n",
       " (0.05555574931301368-0.06818761341706095j),\n",
       " (0.05615234375+0.05419921875j),\n",
       " (0.0810546875+0.056640625j),\n",
       " (0.12478511744315052+0.008053663742963924j)]"
      ]
     },
     "execution_count": 27,
     "metadata": {},
     "output_type": "execute_result"
    }
   ],
   "source": [
    "ifft_hw_output = np.fft.ifft(fft_hw_output)\n",
    "sorted(ifft_hw_output)"
   ]
  },
  {
   "cell_type": "code",
   "execution_count": 28,
   "id": "5fe6e71b",
   "metadata": {},
   "outputs": [
    {
     "data": {
      "text/plain": [
       "[(0.00048828125-0.00048828125j),\n",
       " (0.01220703125-0.00048828125j),\n",
       " (0.020810680821793506+0j),\n",
       " (0.02978515625+0.00146484375j),\n",
       " (0.05803011282590298+0j),\n",
       " (0.11189176217409702+0j),\n",
       " (0.11962890625-0.00048828125j),\n",
       " (0.1354393191782065+0j)]"
      ]
     },
     "execution_count": 28,
     "metadata": {},
     "output_type": "execute_result"
    }
   ],
   "source": [
    "ifft_fixed_output = np.fft.ifft(fft_sw_fixed16)\n",
    "sorted(ifft_fixed_output)"
   ]
  },
  {
   "cell_type": "code",
   "execution_count": 29,
   "id": "a31efa82",
   "metadata": {},
   "outputs": [
    {
     "data": {
      "text/plain": [
       "(-1524.8258354139052+3095.7364485210346j)"
      ]
     },
     "execution_count": 29,
     "metadata": {},
     "output_type": "execute_result"
    }
   ],
   "source": [
    "fft_mse_hw = np.square(np.subtract(sorted_fft_hw_output,sorted_fft_sw_fixed16)).mean()\n",
    "fft_mse_sw = np.square(np.subtract(sorted_fft_sw_output,sorted_fft_sw_fixed16)).mean()\n",
    "fft_mse_hw/fft_mse_sw"
   ]
  },
  {
   "cell_type": "code",
   "execution_count": 30,
   "id": "7a2b432b",
   "metadata": {},
   "outputs": [
    {
     "data": {
      "text/plain": [
       "(892.8500628279717-684.8565795969612j)"
      ]
     },
     "execution_count": 30,
     "metadata": {},
     "output_type": "execute_result"
    }
   ],
   "source": [
    "ifft_mse_hw = np.square(np.subtract(ifft_fixed_output,ifft_hw_output )).mean()\n",
    "ifft_mse_sw = np.square(np.subtract(ifft_sw_output,ifft_fixed_output )).mean()\n",
    "ifft_mse_hw/ifft_mse_sw"
   ]
  },
  {
   "cell_type": "code",
   "execution_count": null,
   "id": "075a8c4b",
   "metadata": {},
   "outputs": [],
   "source": []
  }
 ],
 "metadata": {
  "kernelspec": {
   "display_name": "Python 3",
   "language": "python",
   "name": "python3"
  },
  "language_info": {
   "codemirror_mode": {
    "name": "ipython",
    "version": 3
   },
   "file_extension": ".py",
   "mimetype": "text/x-python",
   "name": "python",
   "nbconvert_exporter": "python",
   "pygments_lexer": "ipython3",
   "version": "3.8.2"
  }
 },
 "nbformat": 4,
 "nbformat_minor": 5
}
